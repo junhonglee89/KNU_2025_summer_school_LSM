{
 "cells": [
  {
   "cell_type": "markdown",
   "id": "f227ffbb-ee25-4b7b-ada4-38fcfff15145",
   "metadata": {},
   "source": [
    "# Albedo ($\\alpha$)"
   ]
  },
  {
   "cell_type": "markdown",
   "id": "303bbaf1",
   "metadata": {},
   "source": [
    "$$\n",
    "C_{soil} \\frac{\\partial T_{s}}{\\partial t} = (1-\\textcolor{red}{\\alpha}) \\cdot SW_d + LW_d - LW_u \\ - H - \\lambda E - G      \\tag{1.1}\n",
    "$$"
   ]
  },
  {
   "cell_type": "markdown",
   "id": "dc692d44",
   "metadata": {},
   "source": [
    "- **Definition**: The faction of the downward solar radiation that is reflected upward from the surface.\n",
    "\n",
    "<figure>\n",
    "  <img src=\"../_static/images/albedo_01.png\">\n",
    "</figure>\n",
    "\n",
    "- Provided by land surface input/table file (such as `VEGPARM.TBL` for the WRF model).\n",
    "\n",
    "- Typical $\\alpha$:\n",
    "\n",
    "**Table 3.1.** Typical values for albedo.\n",
    "| Surface type | Albedo |\n",
    "|--------------|--------|\n",
    "| Dark & wet soil | 0.05 |\n",
    "| Confierous forests | 0.10 |\n",
    "| Grass and agricultural lands | 0.20 |\n",
    "| Desert | 0.30-0.4 |\n",
    "| Old snow | 0.60-0.90 |\n",
    "| Fresh snow | 0.75-0.95 |"
   ]
  },
  {
   "cell_type": "code",
   "execution_count": 1,
   "id": "ec0a3909",
   "metadata": {},
   "outputs": [],
   "source": [
    "ALBEDO = 0.3"
   ]
  }
 ],
 "metadata": {
  "kernelspec": {
   "display_name": "My_Kernel",
   "language": "python",
   "name": "my_kernel"
  },
  "language_info": {
   "codemirror_mode": {
    "name": "ipython",
    "version": 3
   },
   "file_extension": ".py",
   "mimetype": "text/x-python",
   "name": "python",
   "nbconvert_exporter": "python",
   "pygments_lexer": "ipython3",
   "version": "3.10.9"
  }
 },
 "nbformat": 4,
 "nbformat_minor": 5
}
