{
 "cells": [
  {
   "cell_type": "markdown",
   "id": "f227ffbb-ee25-4b7b-ada4-38fcfff15145",
   "metadata": {},
   "source": [
    "# Test"
   ]
  },
  {
   "cell_type": "markdown",
   "id": "d0a152ac",
   "metadata": {},
   "source": [
    "\n",
    "<figure>\n",
    "  <img src=\"_static/images/sensible_heat_flux_02.png\" alt=\"Test\" style=\"width:80%\">\n",
    "  <figcaption>Figure 1. _static/images/sensible_heat_flux_02.png</figcaption>\n",
    "</figure>\n",
    "\n",
    "\n",
    "<figure>\n",
    "  <img src=\"../_static/images/sensible_heat_flux_02.png\" alt=\"Test\" style=\"width:80%\">\n",
    "  <figcaption>Figure 1. ../_static/images/sensible_heat_flux_02.png</figcaption>\n",
    "</figure>\n",
    "\n",
    "\n"
   ]
  }
 ],
 "metadata": {
  "kernelspec": {
   "display_name": "My_Kernel",
   "language": "python",
   "name": "my_kernel"
  },
  "language_info": {
   "codemirror_mode": {
    "name": "ipython",
    "version": 3
   },
   "file_extension": ".py",
   "mimetype": "text/x-python",
   "name": "python",
   "nbconvert_exporter": "python",
   "pygments_lexer": "ipython3",
   "version": "3.10.9"
  }
 },
 "nbformat": 4,
 "nbformat_minor": 5
}
