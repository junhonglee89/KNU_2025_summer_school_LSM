{
 "cells": [
  {
   "cell_type": "markdown",
   "id": "f227ffbb-ee25-4b7b-ada4-38fcfff15145",
   "metadata": {},
   "source": [
    "# Downward longwave radiation at the surface ($LW_d$)"
   ]
  },
  {
   "cell_type": "markdown",
   "id": "a450947e",
   "metadata": {},
   "source": [
    "$$\n",
    "C_{soil} \\frac{\\partial T_{s}}{\\partial t} = (1-\\alpha) \\cdot SW_d + \\textcolor{red}{LW_d} - LW_u \\ - H - \\lambda E - G      \\tag{1.2}\n",
    "$$"
   ]
  },
  {
   "cell_type": "markdown",
   "id": "dc692d44",
   "metadata": {},
   "source": [
    "- **Definition**: The total amount of longwave radiation emitted by the atmosphere that reaches the land surface.\n",
    "\n",
    "<figure>\n",
    "  <img src=\"../_static/images/LWd_01.png\" style=\"width:60%\">\n",
    "</figure>\n",
    "\n",
    "- Provided by radiation scheme."
   ]
  },
  {
   "cell_type": "code",
   "execution_count": null,
   "id": "9e726b86",
   "metadata": {},
   "outputs": [],
   "source": [
    "LWd = 400 # W/m2"
   ]
  }
 ],
 "metadata": {
  "kernelspec": {
   "display_name": "My_Kernel",
   "language": "python",
   "name": "my_kernel"
  },
  "language_info": {
   "codemirror_mode": {
    "name": "ipython",
    "version": 3
   },
   "file_extension": ".py",
   "mimetype": "text/x-python",
   "name": "python",
   "nbconvert_exporter": "python",
   "pygments_lexer": "ipython3",
   "version": "3.10.9"
  }
 },
 "nbformat": 4,
 "nbformat_minor": 5
}
