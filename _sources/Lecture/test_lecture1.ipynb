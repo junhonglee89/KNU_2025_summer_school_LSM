{
 "cells": [
  {
   "cell_type": "markdown",
   "id": "f227ffbb-ee25-4b7b-ada4-38fcfff15145",
   "metadata": {},
   "source": [
    "# Test_Lecture1"
   ]
  },
  {
   "cell_type": "code",
   "execution_count": 1,
   "id": "37f818c7-fc60-49d0-ae86-d9ea128d2a77",
   "metadata": {},
   "outputs": [],
   "source": [
    "import numpy as np"
   ]
  },
  {
   "cell_type": "code",
   "execution_count": 2,
   "id": "82ea39e2-4264-485f-bba0-e6b5a5ebd4ba",
   "metadata": {},
   "outputs": [],
   "source": [
    "x = 1\n",
    "y = 2"
   ]
  },
  {
   "cell_type": "code",
   "execution_count": 3,
   "id": "0ac7b7b6-74c4-403b-932a-3b81ff490e54",
   "metadata": {},
   "outputs": [
    {
     "name": "stdout",
     "output_type": "stream",
     "text": [
      "3\n"
     ]
    }
   ],
   "source": [
    "print(x + y)"
   ]
  }
 ],
 "metadata": {
  "kernelspec": {
   "display_name": "My_Kernel",
   "language": "python",
   "name": "my_kernel"
  },
  "language_info": {
   "codemirror_mode": {
    "name": "ipython",
    "version": 3
   },
   "file_extension": ".py",
   "mimetype": "text/x-python",
   "name": "python",
   "nbconvert_exporter": "python",
   "pygments_lexer": "ipython3",
   "version": "3.10.13"
  }
 },
 "nbformat": 4,
 "nbformat_minor": 5
}
